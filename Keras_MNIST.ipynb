{
 "cells": [
  {
   "cell_type": "markdown",
   "metadata": {},
   "source": [
    "# Practice Keras"
   ]
  },
  {
   "cell_type": "code",
   "execution_count": 1,
   "metadata": {},
   "outputs": [
    {
     "name": "stderr",
     "output_type": "stream",
     "text": [
      "/anaconda3/lib/python3.6/site-packages/h5py/__init__.py:36: FutureWarning: Conversion of the second argument of issubdtype from `float` to `np.floating` is deprecated. In future, it will be treated as `np.float64 == np.dtype(float).type`.\n",
      "  from ._conv import register_converters as _register_converters\n",
      "Using TensorFlow backend.\n"
     ]
    }
   ],
   "source": [
    "from tensorflow import keras\n",
    "from keras.layers import Input, Conv2D, BatchNormalization, MaxPooling2D, Flatten, Dense\n",
    "from keras.models import Model\n",
    "from keras.utils import to_categorical\n",
    "import matplotlib.pyplot as plt\n",
    "import numpy as np\n",
    "\n",
    "%matplotlib inline"
   ]
  },
  {
   "cell_type": "markdown",
   "metadata": {},
   "source": [
    "# Get the data I will use"
   ]
  },
  {
   "cell_type": "code",
   "execution_count": 2,
   "metadata": {},
   "outputs": [
    {
     "name": "stdout",
     "output_type": "stream",
     "text": [
      "The shape of the X_train (60000, 28, 28)\n",
      "The shape of the Y_train (60000,)\n",
      "The shape of the X_test (10000, 28, 28)\n",
      "The shape of the Y_test (10000,)\n"
     ]
    }
   ],
   "source": [
    "#Get mnist data and split it into training set and test set\n",
    "mnist = keras.datasets.mnist\n",
    "(X_train, Y_train),(X_test, Y_test) = mnist.load_data()\n",
    "print(\"The shape of the X_train\", X_train.shape)\n",
    "print(\"The shape of the Y_train\", Y_train.shape)\n",
    "print(\"The shape of the X_test\", X_test.shape)\n",
    "print(\"The shape of the Y_test\", Y_test.shape)"
   ]
  },
  {
   "cell_type": "markdown",
   "metadata": {},
   "source": [
    "# Prepare the data to train"
   ]
  },
  {
   "cell_type": "code",
   "execution_count": 3,
   "metadata": {},
   "outputs": [],
   "source": [
    "#Reshape the data from 3dims tensor to 4 dims tendor\n",
    "X_train = np.reshape(X_train, newshape = (60000, 28, 28, 1))\n",
    "X_test = np.reshape(X_test, newshape = (10000, 28, 28, 1))"
   ]
  },
  {
   "cell_type": "code",
   "execution_count": 4,
   "metadata": {},
   "outputs": [],
   "source": [
    "def one_hot(data): return to_categorical(data)"
   ]
  },
  {
   "cell_type": "code",
   "execution_count": 5,
   "metadata": {},
   "outputs": [],
   "source": [
    "Y_train = one_hot(Y_train)\n",
    "Y_test = one_hot(Y_test)"
   ]
  },
  {
   "cell_type": "markdown",
   "metadata": {},
   "source": [
    "# Define a model I am going to train"
   ]
  },
  {
   "cell_type": "code",
   "execution_count": 6,
   "metadata": {},
   "outputs": [],
   "source": [
    "def digitModel(input_shape):\n",
    "    '''\n",
    "    input_shape: (img_height, img_width, #channels)\n",
    "    \n",
    "    return: model object\n",
    "    '''\n",
    "    X_input = Input(input_shape)\n",
    "    X = Conv2D(16, kernel_size = (3,3), strides = (1,1))(X_input)\n",
    "    X = BatchNormalization()(X)\n",
    "    X = MaxPooling2D(strides = 2)(X)\n",
    "    X = Flatten()(X)\n",
    "    X = Dense(10, activation = 'softmax')(X)\n",
    "    model = Model(inputs = X_input, outputs = X)\n",
    "    \n",
    "    return model"
   ]
  },
  {
   "cell_type": "code",
   "execution_count": 7,
   "metadata": {},
   "outputs": [],
   "source": [
    "model = digitModel((28, 28, 1))"
   ]
  },
  {
   "cell_type": "markdown",
   "metadata": {},
   "source": [
    "# Train the model"
   ]
  },
  {
   "cell_type": "code",
   "execution_count": 8,
   "metadata": {},
   "outputs": [],
   "source": [
    "model.compile(optimizer = 'adam', loss = 'categorical_crossentropy', metrics = ['accuracy'])"
   ]
  },
  {
   "cell_type": "code",
   "execution_count": 9,
   "metadata": {},
   "outputs": [
    {
     "name": "stdout",
     "output_type": "stream",
     "text": [
      "Train on 54000 samples, validate on 6000 samples\n",
      "Epoch 1/4\n",
      "54000/54000 [==============================] - 35s 644us/step - loss: 0.3423 - acc: 0.8951 - val_loss: 0.1500 - val_acc: 0.9585\n",
      "Epoch 2/4\n",
      "54000/54000 [==============================] - 32s 589us/step - loss: 0.1458 - acc: 0.9571 - val_loss: 0.1010 - val_acc: 0.9722\n",
      "Epoch 3/4\n",
      "54000/54000 [==============================] - 32s 586us/step - loss: 0.1025 - acc: 0.9707 - val_loss: 0.0913 - val_acc: 0.9727\n",
      "Epoch 4/4\n",
      "54000/54000 [==============================] - 33s 612us/step - loss: 0.0819 - acc: 0.9758 - val_loss: 0.0778 - val_acc: 0.9788\n"
     ]
    }
   ],
   "source": [
    "train_history = model.fit(x = X_train, y = Y_train, batch_size = 256, epochs = 4, validation_split=0.1)"
   ]
  },
  {
   "cell_type": "code",
   "execution_count": 10,
   "metadata": {},
   "outputs": [
    {
     "data": {
      "image/png": "[encoded data removed]",
      "text/plain": [
       "<matplotlib.figure.Figure at 0x181fc41390>"
      ]
     },
     "metadata": {
      "needs_background": "light"
     },
     "output_type": "display_data"
    }
   ],
   "source": [
    "train_loss = train_history.history['loss']\n",
    "val_loss = train_history.history['val_loss']\n",
    "plt.plot(train_loss)\n",
    "plt.plot(val_loss)\n",
    "plt.legend(['loss', 'val_loss'])\n",
    "plt.show()"
   ]
  },
  {
   "cell_type": "markdown",
   "metadata": {},
   "source": [
    "### From this result, I can say that the model is still underfitting so that I could have train a couple of epochs more. At this time, my point is to practice writing code with Keras."
   ]
  },
  {
   "cell_type": "markdown",
   "metadata": {},
   "source": [
    "# Evaluate the model"
   ]
  },
  {
   "cell_type": "code",
   "execution_count": 11,
   "metadata": {},
   "outputs": [
    {
     "name": "stdout",
     "output_type": "stream",
     "text": [
      "10000/10000 [==============================] - 4s 438us/step\n"
     ]
    }
   ],
   "source": [
    "preds = model.evaluate(x = X_test, y = Y_test)"
   ]
  },
  {
   "cell_type": "code",
   "execution_count": 12,
   "metadata": {},
   "outputs": [
    {
     "name": "stdout",
     "output_type": "stream",
     "text": [
      "[0.09743902552872896, 0.9716]\n",
      "\n",
      "Loss = 0.09743902552872896\n",
      "Test Accuracy = 0.9716\n"
     ]
    }
   ],
   "source": [
    "print(preds)\n",
    "print()\n",
    "print (\"Loss = \" + str(preds[0]))\n",
    "print (\"Test Accuracy = \" + str(preds[1]))"
   ]
  }
 ],
 "metadata": {
  "kernelspec": {
   "display_name": "Python 3",
   "language": "python",
   "name": "python3"
  },
  "language_info": {
   "codemirror_mode": {
    "name": "ipython",
    "version": 3
   },
   "file_extension": ".py",
   "mimetype": "text/x-python",
   "name": "python",
   "nbconvert_exporter": "python",
   "pygments_lexer": "ipython3",
   "version": "3.6.4"
  }
 },
 "nbformat": 4,
 "nbformat_minor": 2
}
