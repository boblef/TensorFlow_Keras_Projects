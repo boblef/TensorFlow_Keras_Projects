{
 "cells": [
  {
   "cell_type": "code",
   "execution_count": 1,
   "metadata": {},
   "outputs": [
    {
     "name": "stderr",
     "output_type": "stream",
     "text": [
      "/anaconda3/lib/python3.6/site-packages/h5py/__init__.py:36: FutureWarning: Conversion of the second argument of issubdtype from `float` to `np.floating` is deprecated. In future, it will be treated as `np.float64 == np.dtype(float).type`.\n",
      "  from ._conv import register_converters as _register_converters\n"
     ]
    }
   ],
   "source": [
    "from tensorflow.examples.tutorials.mnist import input_data\n",
    "import tensorflow as tf"
   ]
  },
  {
   "cell_type": "code",
   "execution_count": 2,
   "metadata": {},
   "outputs": [
    {
     "name": "stdout",
     "output_type": "stream",
     "text": [
      "WARNING:tensorflow:From <ipython-input-2-1a516c502833>:1: read_data_sets (from tensorflow.contrib.learn.python.learn.datasets.mnist) is deprecated and will be removed in a future version.\n",
      "Instructions for updating:\n",
      "Please use alternatives such as official/mnist/dataset.py from tensorflow/models.\n",
      "WARNING:tensorflow:From /anaconda3/lib/python3.6/site-packages/tensorflow/contrib/learn/python/learn/datasets/mnist.py:260: maybe_download (from tensorflow.contrib.learn.python.learn.datasets.base) is deprecated and will be removed in a future version.\n",
      "Instructions for updating:\n",
      "Please write your own downloading logic.\n",
      "WARNING:tensorflow:From /anaconda3/lib/python3.6/site-packages/tensorflow/contrib/learn/python/learn/datasets/mnist.py:262: extract_images (from tensorflow.contrib.learn.python.learn.datasets.mnist) is deprecated and will be removed in a future version.\n",
      "Instructions for updating:\n",
      "Please use tf.data to implement this functionality.\n",
      "Extracting MNIST_data/train-images-idx3-ubyte.gz\n",
      "WARNING:tensorflow:From /anaconda3/lib/python3.6/site-packages/tensorflow/contrib/learn/python/learn/datasets/mnist.py:267: extract_labels (from tensorflow.contrib.learn.python.learn.datasets.mnist) is deprecated and will be removed in a future version.\n",
      "Instructions for updating:\n",
      "Please use tf.data to implement this functionality.\n",
      "Extracting MNIST_data/train-labels-idx1-ubyte.gz\n",
      "WARNING:tensorflow:From /anaconda3/lib/python3.6/site-packages/tensorflow/contrib/learn/python/learn/datasets/mnist.py:110: dense_to_one_hot (from tensorflow.contrib.learn.python.learn.datasets.mnist) is deprecated and will be removed in a future version.\n",
      "Instructions for updating:\n",
      "Please use tf.one_hot on tensors.\n",
      "Extracting MNIST_data/t10k-images-idx3-ubyte.gz\n",
      "Extracting MNIST_data/t10k-labels-idx1-ubyte.gz\n",
      "WARNING:tensorflow:From /anaconda3/lib/python3.6/site-packages/tensorflow/contrib/learn/python/learn/datasets/mnist.py:290: DataSet.__init__ (from tensorflow.contrib.learn.python.learn.datasets.mnist) is deprecated and will be removed in a future version.\n",
      "Instructions for updating:\n",
      "Please use alternatives such as official/mnist/dataset.py from tensorflow/models.\n"
     ]
    }
   ],
   "source": [
    "mnist = input_data.read_data_sets(\"MNIST_data/\", one_hot = True)"
   ]
  },
  {
   "cell_type": "code",
   "execution_count": 3,
   "metadata": {},
   "outputs": [],
   "source": [
    "sz = 28 #image size\n",
    "num_classes = 10"
   ]
  },
  {
   "cell_type": "code",
   "execution_count": 4,
   "metadata": {},
   "outputs": [],
   "source": [
    "#Define placeholders\n",
    "x = tf.placeholder(tf.float32, shape = [None, sz * sz], name = 'x') #image data\n",
    "y_ = tf.placeholder(tf.float32, shape = [None, num_classes], name = 'y_') #correct labels"
   ]
  },
  {
   "cell_type": "code",
   "execution_count": 5,
   "metadata": {},
   "outputs": [],
   "source": [
    "#Define functions that initialize the weights and biases\n",
    "def weight_variable(name, shape):\n",
    "    W_init = tf.truncated_normal(shape, stddev = 0.1)\n",
    "    W = tf.Variable(W_init, name = 'W_' + name)\n",
    "    return W\n",
    "\n",
    "def bias_variable(name, size):\n",
    "    b_init = tf.constant(0.1, shape = [size])\n",
    "    b = tf.Variable(b_init, name = 'b_' + name)\n",
    "    return b"
   ]
  },
  {
   "cell_type": "code",
   "execution_count": 6,
   "metadata": {},
   "outputs": [],
   "source": [
    "#Define functions for conv2d and max_pool\n",
    "def conv2d(x, W):\n",
    "    return tf.nn.conv2d(x, W, strides = [1, 1, 1, 1], padding = 'SAME')\n",
    "\n",
    "def max_pool(x):\n",
    "    return tf.nn.max_pool(x, ksize = [1, 2, 2, 1], strides = [1, 2, 2, 1], padding = 'VALID')"
   ]
  },
  {
   "cell_type": "code",
   "execution_count": 7,
   "metadata": {},
   "outputs": [],
   "source": [
    "#conv1\n",
    "#(28, 28, 1) -> (28, 28, 32)\n",
    "with tf.name_scope('conv1') as scope:\n",
    "    W_conv1 = weight_variable('conv1', [5, 5, 1, 32])\n",
    "    b_conv1 = bias_variable('conv1', 32)\n",
    "    x_image = tf.reshape(x, [-1, sz, sz, 1])\n",
    "    a_conv1= tf.nn.relu(conv2d(x_image, W_conv1) + b_conv1)"
   ]
  },
  {
   "cell_type": "code",
   "execution_count": 8,
   "metadata": {},
   "outputs": [],
   "source": [
    "#pool1\n",
    "#(28, 28, 32) -> (14, 14, 32)\n",
    "with tf.name_scope('pool1') as scope:\n",
    "    a_pool1 = max_pool(a_conv1)"
   ]
  },
  {
   "cell_type": "code",
   "execution_count": 9,
   "metadata": {},
   "outputs": [],
   "source": [
    "#conv2\n",
    "#(14, 14, 32) -> (14, 14, 64)\n",
    "with tf.name_scope('conv2') as scope:\n",
    "    W_conv2 = weight_variable('conv2', [5, 5, 32, 64])\n",
    "    b_conv2 = bias_variable('conv2', 64)\n",
    "    a_conv2 = tf.nn.relu(conv2d(a_pool1, W_conv2) + b_conv2)"
   ]
  },
  {
   "cell_type": "code",
   "execution_count": 10,
   "metadata": {},
   "outputs": [],
   "source": [
    "#pool2\n",
    "#(14, 14, 64) -> (7, 7, 64)\n",
    "with tf.name_scope('pool2') as scope:\n",
    "    a_pool2 = max_pool(a_conv2)"
   ]
  },
  {
   "cell_type": "code",
   "execution_count": 11,
   "metadata": {},
   "outputs": [],
   "source": [
    "#fc1\n",
    "with tf.name_scope('fc1') as scope:\n",
    "    n = 7 * 7* 64\n",
    "    W_fc1 = weight_variable('fc1', [n, 1024])\n",
    "    b_fc1 = bias_variable('fc1', 1024)\n",
    "    a_pool2_flatten = tf.reshape(a_pool2, [-1,n])\n",
    "    a_fc1 = tf.nn.relu(tf.matmul(a_pool2_flatten, W_fc1) + b_fc1)"
   ]
  },
  {
   "cell_type": "code",
   "execution_count": 12,
   "metadata": {},
   "outputs": [],
   "source": [
    "#Dropout\n",
    "with tf.name_scope('dropout') as scope:\n",
    "    keep_prob = tf.placeholder(tf.float32)\n",
    "    a_fc1_dropout = tf.nn.dropout(a_fc1, keep_prob)"
   ]
  },
  {
   "cell_type": "code",
   "execution_count": 13,
   "metadata": {},
   "outputs": [],
   "source": [
    "#fc2\n",
    "with tf.name_scope('fc2') as scope:\n",
    "    W_fc2 = weight_variable('fc2', [1024, 10])\n",
    "    b_fc2 = bias_variable('fc2', 10)\n",
    "    y_hat = tf.nn.softmax(tf.matmul(a_fc1_dropout, W_fc2) + b_fc2)"
   ]
  },
  {
   "cell_type": "code",
   "execution_count": 15,
   "metadata": {},
   "outputs": [],
   "source": [
    "#Train\n",
    "with tf.name_scope('loss') as scope:\n",
    "    cross_entropy = -tf.reduce_sum(y_ * tf.log(y_hat))\n",
    "with tf.name_scope('training') as scope:\n",
    "    optimizer = tf.train.AdamOptimizer(1e-4)\n",
    "    train_step = optimizer.minimize(cross_entropy)"
   ]
  },
  {
   "cell_type": "code",
   "execution_count": 16,
   "metadata": {},
   "outputs": [],
   "source": [
    "#Evaluate\n",
    "with tf.name_scope('predict') as scope:\n",
    "    predict_step = tf.equal(tf.argmax(y_hat, 1), tf.argmax(y_, 1))\n",
    "    accuracy_step = tf.reduce_mean(tf.cast(predict_step, tf.float32))"
   ]
  },
  {
   "cell_type": "code",
   "execution_count": 17,
   "metadata": {},
   "outputs": [],
   "source": [
    "#Set up feed_dict\n",
    "def set_feed(images, labels, probs):\n",
    "    return {x : images, y_ : labels, keep_prob : probs}"
   ]
  },
  {
   "cell_type": "code",
   "execution_count": 18,
   "metadata": {},
   "outputs": [
    {
     "name": "stdout",
     "output_type": "stream",
     "text": [
      "step: 0 train loss 520.51685 val loss 28225.031 acc 0.1086\n",
      "step: 100 train loss 88.31464 val loss 2515.5347 acc 0.8454\n",
      "step: 200 train loss 41.37371 val loss 1608.0947 acc 0.9098\n",
      "step: 300 train loss 16.521648 val loss 1253.5862 acc 0.9316\n",
      "step: 400 train loss 29.039562 val loss 1055.1381 acc 0.9396\n",
      "step: 500 train loss 26.068958 val loss 881.5731 acc 0.9518\n",
      "step: 600 train loss 17.141338 val loss 783.6948 acc 0.9566\n",
      "step: 700 train loss 5.507494 val loss 704.11755 acc 0.9588\n",
      "step: 800 train loss 17.794321 val loss 668.49567 acc 0.9626\n",
      "step: 900 train loss 12.510027 val loss 612.17993 acc 0.9646\n",
      "step: 1000 train loss 8.853877 val loss 567.9082 acc 0.9674\n",
      "step: 1100 train loss 12.885713 val loss 538.7213 acc 0.968\n",
      "step: 1200 train loss 12.407662 val loss 503.77203 acc 0.9692\n",
      "step: 1300 train loss 6.9274096 val loss 482.78033 acc 0.9708\n",
      "step: 1400 train loss 5.9865294 val loss 482.42798 acc 0.9724\n",
      "step: 1500 train loss 4.0209045 val loss 436.42532 acc 0.977\n",
      "step: 1600 train loss 18.635197 val loss 410.69284 acc 0.9766\n",
      "step: 1700 train loss 8.865967 val loss 381.4464 acc 0.9784\n",
      "step: 1800 train loss 2.4358647 val loss 393.00836 acc 0.976\n",
      "step: 1900 train loss 8.056546 val loss 368.20245 acc 0.979\n",
      "acc 0.9776\n"
     ]
    }
   ],
   "source": [
    "#Start session\n",
    "with tf.Session() as sess:\n",
    "    sess.run(tf.global_variables_initializer())\n",
    "    #Make a tendorboard\n",
    "    file_writer = tf.summary.FileWriter('./log_dir', sess.graph)\n",
    "    \n",
    "    #Prepare feed_dict for validation set\n",
    "    val_fd =set_feed(mnist.validation.images, mnist.validation.labels, 1) #Where 1 is the probability for the dropout\n",
    "    \n",
    "    #Prepare feed_dict for test set\n",
    "    test_fd =set_feed(mnist.test.images, mnist.test.labels, 1) #Where 1 is the probability for the dropout\n",
    "    #Training\n",
    "    for step in range(2000):\n",
    "        batch = mnist.train.next_batch(64)\n",
    "        fd = set_feed(batch[0], batch[1], 0.5)\n",
    "        _, train_loss = sess.run([train_step, cross_entropy], feed_dict = fd)\n",
    "        if step % 100 == 0:\n",
    "            val_loss, acc = sess.run([cross_entropy, accuracy_step], feed_dict = val_fd)\n",
    "            #acc = sess.run(accuracy_step, feed_dict = test_fd)\n",
    "            print(\"(step:\", step,\")  (train loss:\", train_loss, \")  (val loss:\", val_loss, \")  (val acc:\", acc, \")\")\n",
    "    acc = sess.run(accuracy_step, feed_dict = test_fd)\n",
    "    print(\"test acc:\", acc)"
   ]
  },
  {
   "cell_type": "code",
   "execution_count": null,
   "metadata": {},
   "outputs": [],
   "source": []
  }
 ],
 "metadata": {
  "kernelspec": {
   "display_name": "Python 3",
   "language": "python",
   "name": "python3"
  },
  "language_info": {
   "codemirror_mode": {
    "name": "ipython",
    "version": 3
   },
   "file_extension": ".py",
   "mimetype": "text/x-python",
   "name": "python",
   "nbconvert_exporter": "python",
   "pygments_lexer": "ipython3",
   "version": "3.6.4"
  }
 },
 "nbformat": 4,
 "nbformat_minor": 2
}
