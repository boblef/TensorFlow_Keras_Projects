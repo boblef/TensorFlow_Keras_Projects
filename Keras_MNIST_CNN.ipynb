{
 "cells": [
  {
   "cell_type": "code",
   "execution_count": 1,
   "metadata": {},
   "outputs": [
    {
     "name": "stderr",
     "output_type": "stream",
     "text": [
      "Using TensorFlow backend.\n"
     ]
    }
   ],
   "source": [
    "import tensorflow as tf\n",
    "from tensorflow import keras\n",
    "from tensorflow.keras.metrics import categorical_accuracy\n",
    "from keras.datasets import mnist\n",
    "from keras.models import Sequential, Input, Model\n",
    "from keras.layers import Dense, Dropout, Conv2D, MaxPooling2D, Flatten, BatchNormalization\n",
    "from keras.optimizers import Adam\n",
    "from keras.utils import to_categorical\n",
    "\n",
    "import matplotlib.pyplot as plt\n",
    "import numpy as np\n",
    "%matplotlib inline"
   ]
  },
  {
   "cell_type": "code",
   "execution_count": 2,
   "metadata": {},
   "outputs": [],
   "source": [
    "# Get training set and test set\n",
    "(X_train, Y_train), (X_test, Y_test) = mnist.load_data()"
   ]
  },
  {
   "cell_type": "code",
   "execution_count": 3,
   "metadata": {},
   "outputs": [],
   "source": [
    "#Constants\n",
    "SZ = 28\n",
    "NUM_CLASSES = 10\n",
    "BATCH_SIZE = 64\n",
    "EPOCHS = 15\n",
    "CLASSES = [0,1,2,3,4,5,6,7,8,9]"
   ]
  },
  {
   "cell_type": "markdown",
   "metadata": {},
   "source": [
    "# Prepare the data"
   ]
  },
  {
   "cell_type": "code",
   "execution_count": 4,
   "metadata": {},
   "outputs": [],
   "source": [
    "X_train = X_train.astype('float32')\n",
    "X_test = X_test.astype('float32')\n",
    "X_train /= 255\n",
    "X_test /= 255\n",
    "X_train = X_train.reshape(X_train.shape[0], SZ, SZ, 1)\n",
    "X_test = X_test.reshape(X_test.shape[0], SZ, SZ, 1)"
   ]
  },
  {
   "cell_type": "code",
   "execution_count": 5,
   "metadata": {},
   "outputs": [],
   "source": [
    "# Change labels to one-hot\n",
    "Y_train = to_categorical(Y_train, NUM_CLASSES)\n",
    "Y_test = to_categorical(Y_test, NUM_CLASSES)"
   ]
  },
  {
   "cell_type": "markdown",
   "metadata": {},
   "source": [
    "# Check some images from training set"
   ]
  },
  {
   "cell_type": "code",
   "execution_count": 6,
   "metadata": {},
   "outputs": [
    {
     "name": "stdout",
     "output_type": "stream",
     "text": [
      "3\n",
      "9\n",
      "0\n",
      "0\n"
     ]
    },
    {
     "data": {
      "image/png": "[encoded data removed]",
      "text/plain": [
       "<Figure size 432x288 with 4 Axes>"
      ]
     },
     "metadata": {},
     "output_type": "display_data"
    }
   ],
   "source": [
    "plt.figure()\n",
    "h_length = 2\n",
    "w_length = 2\n",
    "for h in range(h_length):\n",
    "    for w in range(w_length):\n",
    "        i = h*w_length+w+1\n",
    "        fig_loc = str(h_length) + str(w_length) + str(i)\n",
    "        plt.subplot(h_length,w_length,i)\n",
    "        num = 10*i\n",
    "        idx = np.random.randint(X_train.shape[0])\n",
    "        print(np.argmax(Y_train[idx]))\n",
    "        imgplot = plt.imshow(X_train[idx,:,:,0])\n",
    "plt.show()"
   ]
  },
  {
   "cell_type": "markdown",
   "metadata": {},
   "source": [
    "# Build a model"
   ]
  },
  {
   "cell_type": "code",
   "execution_count": 7,
   "metadata": {},
   "outputs": [
    {
     "name": "stdout",
     "output_type": "stream",
     "text": [
      "_________________________________________________________________\n",
      "Layer (type)                 Output Shape              Param #   \n",
      "=================================================================\n",
      "conv2d_1 (Conv2D)            (None, 26, 26, 8)         80        \n",
      "_________________________________________________________________\n",
      "batch_normalization_1 (Batch (None, 26, 26, 8)         32        \n",
      "_________________________________________________________________\n",
      "dropout_1 (Dropout)          (None, 26, 26, 8)         0         \n",
      "_________________________________________________________________\n",
      "max_pooling2d_1 (MaxPooling2 (None, 12, 12, 8)         0         \n",
      "_________________________________________________________________\n",
      "conv2d_2 (Conv2D)            (None, 10, 10, 16)        1168      \n",
      "_________________________________________________________________\n",
      "batch_normalization_2 (Batch (None, 10, 10, 16)        64        \n",
      "_________________________________________________________________\n",
      "dropout_2 (Dropout)          (None, 10, 10, 16)        0         \n",
      "_________________________________________________________________\n",
      "max_pooling2d_2 (MaxPooling2 (None, 5, 5, 16)          0         \n",
      "_________________________________________________________________\n",
      "flatten_1 (Flatten)          (None, 400)               0         \n",
      "_________________________________________________________________\n",
      "dense_1 (Dense)              (None, 128)               51328     \n",
      "_________________________________________________________________\n",
      "batch_normalization_3 (Batch (None, 128)               512       \n",
      "_________________________________________________________________\n",
      "dropout_3 (Dropout)          (None, 128)               0         \n",
      "_________________________________________________________________\n",
      "dense_2 (Dense)              (None, 10)                1290      \n",
      "=================================================================\n",
      "Total params: 54,474\n",
      "Trainable params: 54,170\n",
      "Non-trainable params: 304\n",
      "_________________________________________________________________\n"
     ]
    }
   ],
   "source": [
    "#Build a model that I am going to train\n",
    "model = Sequential()\n",
    "model.add(Conv2D(filters = 8, kernel_size = 3, input_shape = (SZ, SZ, 1))) # (28, 28, 1) -> (26, 26, 8)\n",
    "model.add(BatchNormalization())\n",
    "model.add(Dropout(0.25))\n",
    "model.add(MaxPooling2D(pool_size = 4, strides = 2)) #(26, 26, 8) -> (12, 12, 8)\n",
    "model.add(Conv2D(filters = 16, kernel_size = 3)) #(12, 12, 8) -> (10, 10, 16)\n",
    "model.add(BatchNormalization())\n",
    "model.add(Dropout(0.25))\n",
    "model.add(MaxPooling2D(pool_size = 2, strides = 2)) # (10, 10, 16) -> (5, 5, 16)\n",
    "model.add(Flatten()) #(5, 5, 16) -> (400)\n",
    "model.add(Dense(128, activation = 'relu')) #(400) -> (128)\n",
    "model.add(BatchNormalization())\n",
    "model.add(Dropout(0.25))\n",
    "model.add(Dense(NUM_CLASSES, activation = 'softmax'))\n",
    "model.summary()"
   ]
  },
  {
   "cell_type": "code",
   "execution_count": 8,
   "metadata": {},
   "outputs": [],
   "source": [
    "#Compile the model\n",
    "model.compile(optimizer = Adam(0.0005), loss = 'categorical_crossentropy', metrics = ['accuracy', categorical_accuracy])"
   ]
  },
  {
   "cell_type": "markdown",
   "metadata": {},
   "source": [
    "# Train the model"
   ]
  },
  {
   "cell_type": "code",
   "execution_count": 9,
   "metadata": {},
   "outputs": [
    {
     "name": "stdout",
     "output_type": "stream",
     "text": [
      "Train on 54000 samples, validate on 6000 samples\n",
      "Epoch 1/15\n",
      "54000/54000 [==============================] - 10s 179us/step - loss: 0.3013 - acc: 0.9072 - categorical_accuracy: 0.9072 - val_loss: 0.1373 - val_acc: 0.9653 - val_categorical_accuracy: 0.9653\n",
      "Epoch 2/15\n",
      "54000/54000 [==============================] - 8s 146us/step - loss: 0.1076 - acc: 0.9664 - categorical_accuracy: 0.9664 - val_loss: 0.1067 - val_acc: 0.9727 - val_categorical_accuracy: 0.9727\n",
      "Epoch 3/15\n",
      "54000/54000 [==============================] - 8s 146us/step - loss: 0.0799 - acc: 0.9754 - categorical_accuracy: 0.9754 - val_loss: 0.1049 - val_acc: 0.9732 - val_categorical_accuracy: 0.9732\n",
      "Epoch 4/15\n",
      "54000/54000 [==============================] - 8s 146us/step - loss: 0.0691 - acc: 0.9785 - categorical_accuracy: 0.9785 - val_loss: 0.1170 - val_acc: 0.9682 - val_categorical_accuracy: 0.9682\n",
      "Epoch 5/15\n",
      "54000/54000 [==============================] - 8s 146us/step - loss: 0.0595 - acc: 0.9815 - categorical_accuracy: 0.9815 - val_loss: 0.1060 - val_acc: 0.9708 - val_categorical_accuracy: 0.9708\n",
      "Epoch 6/15\n",
      "54000/54000 [==============================] - 8s 146us/step - loss: 0.0553 - acc: 0.9823 - categorical_accuracy: 0.9823 - val_loss: 0.0947 - val_acc: 0.9712 - val_categorical_accuracy: 0.9712\n",
      "Epoch 7/15\n",
      "54000/54000 [==============================] - 8s 146us/step - loss: 0.0514 - acc: 0.9839 - categorical_accuracy: 0.9839 - val_loss: 0.0746 - val_acc: 0.9780 - val_categorical_accuracy: 0.9780\n",
      "Epoch 8/15\n",
      "54000/54000 [==============================] - 8s 146us/step - loss: 0.0465 - acc: 0.9850 - categorical_accuracy: 0.9850 - val_loss: 0.0595 - val_acc: 0.9840 - val_categorical_accuracy: 0.9840\n",
      "Epoch 9/15\n",
      "54000/54000 [==============================] - 8s 149us/step - loss: 0.0421 - acc: 0.9862 - categorical_accuracy: 0.9862 - val_loss: 0.0756 - val_acc: 0.9783 - val_categorical_accuracy: 0.9783\n",
      "Epoch 10/15\n",
      "54000/54000 [==============================] - 8s 146us/step - loss: 0.0411 - acc: 0.9871 - categorical_accuracy: 0.9871 - val_loss: 0.0585 - val_acc: 0.9837 - val_categorical_accuracy: 0.9837\n",
      "Epoch 11/15\n",
      "54000/54000 [==============================] - 8s 146us/step - loss: 0.0391 - acc: 0.9872 - categorical_accuracy: 0.9872 - val_loss: 0.0512 - val_acc: 0.9852 - val_categorical_accuracy: 0.9852\n",
      "Epoch 12/15\n",
      "54000/54000 [==============================] - 8s 146us/step - loss: 0.0363 - acc: 0.9882 - categorical_accuracy: 0.9882 - val_loss: 0.0545 - val_acc: 0.9845 - val_categorical_accuracy: 0.9845\n",
      "Epoch 13/15\n",
      "54000/54000 [==============================] - 8s 146us/step - loss: 0.0349 - acc: 0.9892 - categorical_accuracy: 0.9892 - val_loss: 0.0520 - val_acc: 0.9850 - val_categorical_accuracy: 0.9850\n",
      "Epoch 14/15\n",
      "54000/54000 [==============================] - 8s 146us/step - loss: 0.0349 - acc: 0.9886 - categorical_accuracy: 0.9886 - val_loss: 0.0501 - val_acc: 0.9860 - val_categorical_accuracy: 0.9860\n",
      "Epoch 15/15\n",
      "54000/54000 [==============================] - 8s 146us/step - loss: 0.0327 - acc: 0.9895 - categorical_accuracy: 0.9895 - val_loss: 0.0551 - val_acc: 0.9832 - val_categorical_accuracy: 0.9832\n"
     ]
    }
   ],
   "source": [
    "hist = model.fit(x = X_train, y = Y_train, batch_size = BATCH_SIZE, epochs = EPOCHS, validation_split = 0.1)"
   ]
  },
  {
   "cell_type": "markdown",
   "metadata": {},
   "source": [
    "# Model evaluate"
   ]
  },
  {
   "cell_type": "code",
   "execution_count": 10,
   "metadata": {},
   "outputs": [
    {
     "name": "stdout",
     "output_type": "stream",
     "text": [
      "10000/10000 [==============================] - 0s 35us/step\n"
     ]
    }
   ],
   "source": [
    "test_predictions = model.evaluate(x = X_test, y = Y_test, batch_size = BATCH_SIZE)"
   ]
  },
  {
   "cell_type": "code",
   "execution_count": 11,
   "metadata": {},
   "outputs": [
    {
     "name": "stdout",
     "output_type": "stream",
     "text": [
      "Test loss: 0.05390314261838794\n",
      "Test accuracy: 0.9833\n"
     ]
    }
   ],
   "source": [
    "print(\"Test loss:\", test_predictions[0])\n",
    "print(\"Test accuracy:\", test_predictions[1])"
   ]
  },
  {
   "cell_type": "markdown",
   "metadata": {},
   "source": [
    "# Plot results"
   ]
  },
  {
   "cell_type": "code",
   "execution_count": 12,
   "metadata": {},
   "outputs": [
    {
     "data": {
      "image/png": "[encoded data removed]",
      "text/plain": [
       "<Figure size 432x288 with 1 Axes>"
      ]
     },
     "metadata": {},
     "output_type": "display_data"
    },
    {
     "data": {
      "image/png": "[encoded data removed]",
      "text/plain": [
       "<Figure size 432x288 with 1 Axes>"
      ]
     },
     "metadata": {},
     "output_type": "display_data"
    }
   ],
   "source": [
    "def plot_history(history):\n",
    "    loss_list = [s for s in history.history.keys() if 'loss' in s and 'val' not in s]\n",
    "    val_loss_list = [s for s in history.history.keys() if 'loss' in s and 'val' in s]\n",
    "    acc_list = [s for s in history.history.keys() if 'acc' in s and 'val' not in s]\n",
    "    val_acc_list = [s for s in history.history.keys() if 'acc' in s and 'val' in s]\n",
    "    \n",
    "    if len(loss_list) == 0:\n",
    "        print('Loss is missing in history')\n",
    "        return \n",
    "    \n",
    "    ## As loss always exists\n",
    "    epochs = range(1,len(history.history[loss_list[0]]) + 1)\n",
    "    \n",
    "    ## Loss\n",
    "    plt.figure(1)\n",
    "    for l in loss_list:\n",
    "        plt.plot(epochs, history.history[l], 'b', label='Training loss (' + str(str(format(history.history[l][-1],'.5f'))+')'))\n",
    "    for l in val_loss_list:\n",
    "        plt.plot(epochs, history.history[l], 'g', label='Validation loss (' + str(str(format(history.history[l][-1],'.5f'))+')'))\n",
    "    \n",
    "    plt.title('Loss')\n",
    "    plt.xlabel('Epochs')\n",
    "    plt.ylabel('Loss')\n",
    "    plt.legend()\n",
    "    \n",
    "    ## Accuracy\n",
    "    plt.figure(2)\n",
    "    for l in acc_list:\n",
    "        plt.plot(epochs, history.history[l], 'b', label='Training accuracy (' + str(format(history.history[l][-1],'.5f'))+')')\n",
    "    for l in val_acc_list:    \n",
    "        plt.plot(epochs, history.history[l], 'g', label='Validation accuracy (' + str(format(history.history[l][-1],'.5f'))+')')\n",
    "\n",
    "    plt.title('Accuracy')\n",
    "    plt.xlabel('Epochs')\n",
    "    plt.ylabel('Accuracy')\n",
    "    plt.legend()\n",
    "    plt.show()\n",
    "plot_history(hist)"
   ]
  }
 ],
 "metadata": {
  "kernelspec": {
   "display_name": "Environment (conda_tensorflow_p36)",
   "language": "python",
   "name": "conda_tensorflow_p36"
  },
  "language_info": {
   "codemirror_mode": {
    "name": "ipython",
    "version": 3
   },
   "file_extension": ".py",
   "mimetype": "text/x-python",
   "name": "python",
   "nbconvert_exporter": "python",
   "pygments_lexer": "ipython3",
   "version": "3.6.5"
  }
 },
 "nbformat": 4,
 "nbformat_minor": 2
}
