{
 "cells": [
  {
   "cell_type": "code",
   "execution_count": 7,
   "metadata": {},
   "outputs": [],
   "source": [
    "from keras.models import Sequential\n",
    "from keras.layers.core import Dense, Dropout, Activation\n",
    "import pandas as pd\n",
    "import numpy as np"
   ]
  },
  {
   "cell_type": "code",
   "execution_count": 5,
   "metadata": {},
   "outputs": [
    {
     "data": {
      "text/html": [
       "<div>\n",
       "<style scoped>\n",
       "    .dataframe tbody tr th:only-of-type {\n",
       "        vertical-align: middle;\n",
       "    }\n",
       "\n",
       "    .dataframe tbody tr th {\n",
       "        vertical-align: top;\n",
       "    }\n",
       "\n",
       "    .dataframe thead th {\n",
       "        text-align: right;\n",
       "    }\n",
       "</style>\n",
       "<table border=\"1\" class=\"dataframe\">\n",
       "  <thead>\n",
       "    <tr style=\"text-align: right;\">\n",
       "      <th></th>\n",
       "      <th>height</th>\n",
       "      <th>weight</th>\n",
       "      <th>label</th>\n",
       "    </tr>\n",
       "  </thead>\n",
       "  <tbody>\n",
       "    <tr>\n",
       "      <th>0</th>\n",
       "      <td>142</td>\n",
       "      <td>62</td>\n",
       "      <td>fat</td>\n",
       "    </tr>\n",
       "    <tr>\n",
       "      <th>1</th>\n",
       "      <td>142</td>\n",
       "      <td>73</td>\n",
       "      <td>fat</td>\n",
       "    </tr>\n",
       "    <tr>\n",
       "      <th>2</th>\n",
       "      <td>177</td>\n",
       "      <td>61</td>\n",
       "      <td>normal</td>\n",
       "    </tr>\n",
       "    <tr>\n",
       "      <th>3</th>\n",
       "      <td>187</td>\n",
       "      <td>48</td>\n",
       "      <td>thin</td>\n",
       "    </tr>\n",
       "    <tr>\n",
       "      <th>4</th>\n",
       "      <td>153</td>\n",
       "      <td>60</td>\n",
       "      <td>fat</td>\n",
       "    </tr>\n",
       "  </tbody>\n",
       "</table>\n",
       "</div>"
      ],
      "text/plain": [
       "   height  weight   label\n",
       "0     142      62     fat\n",
       "1     142      73     fat\n",
       "2     177      61  normal\n",
       "3     187      48    thin\n",
       "4     153      60     fat"
      ]
     },
     "execution_count": 5,
     "metadata": {},
     "output_type": "execute_result"
    }
   ],
   "source": [
    "#Get data from a csv\n",
    "data = pd.read_csv('./data/bmi.csv')\n",
    "data.head()"
   ]
  },
  {
   "cell_type": "code",
   "execution_count": 6,
   "metadata": {},
   "outputs": [
    {
     "data": {
      "text/plain": [
       "array([0.71 , 0.775])"
      ]
     },
     "execution_count": 6,
     "metadata": {},
     "output_type": "execute_result"
    }
   ],
   "source": [
    "#Get values of 'height' and 'weight' from a dataframe and get a matrix of the data\n",
    "data['height'] /= data['height'].agg('max')\n",
    "data['weight'] /= data['weight'].agg('max')\n",
    "X = data[['height', 'weight']].as_matrix()\n",
    "X[:5]"
   ]
  },
  {
   "cell_type": "code",
   "execution_count": 20,
   "metadata": {},
   "outputs": [],
   "source": [
    "#Labels\n",
    "classes = {'thin' : [1, 0, 0], 'normal' : [0, 1, 0], 'fat' : [0, 0, 1]}\n",
    "y = np.empty((20000,3))\n",
    "for i, v in enumerate(data['label']):\n",
    "    y[i] = classes[v]"
   ]
  },
  {
   "cell_type": "code",
   "execution_count": 23,
   "metadata": {},
   "outputs": [],
   "source": [
    "#Split the data \n",
    "X_train, Y_train = X[0:15000], y[0:15000]\n",
    "X_test, Y_test = X[15000:], y[15000:]"
   ]
  },
  {
   "cell_type": "code",
   "execution_count": 25,
   "metadata": {},
   "outputs": [],
   "source": [
    "#Define a model\n",
    "model = Sequential()\n",
    "model.add(Dense(512, input_shape = (2,)))\n",
    "model.add(Activation('relu'))\n",
    "model.add(Dropout(0.1))\n",
    "\n",
    "model.add(Dense(512))\n",
    "model.add(Activation('relu'))\n",
    "model.add(Dropout(0.1))\n",
    "\n",
    "model.add(Dense(3))\n",
    "model.add(Activation('softmax'))"
   ]
  },
  {
   "cell_type": "code",
   "execution_count": 30,
   "metadata": {},
   "outputs": [],
   "source": [
    "#Compile\n",
    "model.compile(loss = 'categorical_crossentropy', optimizer = 'rmsprop', metrics = ['accuracy'])"
   ]
  },
  {
   "cell_type": "code",
   "execution_count": 44,
   "metadata": {
    "scrolled": true
   },
   "outputs": [
    {
     "name": "stdout",
     "output_type": "stream",
     "text": [
      "Train on 13500 samples, validate on 1500 samples\n",
      "Epoch 1/20\n",
      "13500/13500 [==============================] - 1s 58us/step - loss: 0.0704 - acc: 0.9716 - val_loss: 0.1934 - val_acc: 0.9307\n",
      "Epoch 2/20\n",
      "13500/13500 [==============================] - 1s 52us/step - loss: 0.0654 - acc: 0.9724 - val_loss: 0.0829 - val_acc: 0.9733\n",
      "Epoch 3/20\n",
      "13500/13500 [==============================] - 1s 51us/step - loss: 0.0659 - acc: 0.9718 - val_loss: 0.0453 - val_acc: 0.9760\n",
      "Epoch 4/20\n",
      "13500/13500 [==============================] - 1s 52us/step - loss: 0.0679 - acc: 0.9702 - val_loss: 0.0805 - val_acc: 0.9593\n",
      "Epoch 5/20\n",
      "13500/13500 [==============================] - 1s 52us/step - loss: 0.0651 - acc: 0.9733 - val_loss: 0.0375 - val_acc: 0.9833\n",
      "Epoch 6/20\n",
      "13500/13500 [==============================] - 1s 57us/step - loss: 0.0643 - acc: 0.9734 - val_loss: 0.0306 - val_acc: 0.9880\n",
      "Epoch 7/20\n",
      "13500/13500 [==============================] - 1s 51us/step - loss: 0.0663 - acc: 0.9731 - val_loss: 0.0358 - val_acc: 0.9813\n",
      "Epoch 8/20\n",
      "13500/13500 [==============================] - 1s 54us/step - loss: 0.0647 - acc: 0.9737 - val_loss: 0.0273 - val_acc: 0.9913\n",
      "Epoch 9/20\n",
      "13500/13500 [==============================] - 1s 51us/step - loss: 0.0665 - acc: 0.9733 - val_loss: 0.0810 - val_acc: 0.9620\n",
      "Epoch 10/20\n",
      "13500/13500 [==============================] - 1s 59us/step - loss: 0.0665 - acc: 0.9729 - val_loss: 0.0840 - val_acc: 0.9600\n",
      "Epoch 11/20\n",
      "13500/13500 [==============================] - 1s 51us/step - loss: 0.0657 - acc: 0.9722 - val_loss: 0.0400 - val_acc: 0.9833\n"
     ]
    },
    {
     "data": {
      "text/plain": [
       "<keras.callbacks.History at 0x18275419e8>"
      ]
     },
     "execution_count": 44,
     "metadata": {},
     "output_type": "execute_result"
    }
   ],
   "source": [
    "#Train\n",
    "model.fit(X_train, Y_train, batch_size = 128, epochs = 20, validation_split = 0.1,  callbacks = [EarlyStopping(monitor = 'val_loss', patience = 3)], verbose = 1)"
   ]
  },
  {
   "cell_type": "code",
   "execution_count": 45,
   "metadata": {},
   "outputs": [
    {
     "name": "stdout",
     "output_type": "stream",
     "text": [
      "5000/5000 [==============================] - 0s 43us/step\n",
      "loss =  0.04082008857876063\n",
      "accuracy =  0.9856\n"
     ]
    }
   ],
   "source": [
    "#Evaluate\n",
    "score = model.evaluate(X_test, Y_test)\n",
    "print(\"loss = \", score[0])\n",
    "print(\"accuracy = \", score[1])"
   ]
  },
  {
   "cell_type": "code",
   "execution_count": null,
   "metadata": {},
   "outputs": [],
   "source": []
  }
 ],
 "metadata": {
  "kernelspec": {
   "display_name": "Python 3",
   "language": "python",
   "name": "python3"
  },
  "language_info": {
   "codemirror_mode": {
    "name": "ipython",
    "version": 3
   },
   "file_extension": ".py",
   "mimetype": "text/x-python",
   "name": "python",
   "nbconvert_exporter": "python",
   "pygments_lexer": "ipython3",
   "version": "3.6.4"
  }
 },
 "nbformat": 4,
 "nbformat_minor": 2
}
